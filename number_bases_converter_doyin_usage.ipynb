{
 "cells": [
  {
   "cell_type": "markdown",
   "metadata": {},
   "source": [
    "# Number bases converter with Sample Usages\n",
    "    \n",
    "    Author: Adeyemi Adedoyin Simeon\n",
    "    Date: July 15th, 2019\n",
    "    Location: Offa, Kwara State, Nigeria.\n",
    "    Version: 2.0"
   ]
  },
  {
   "cell_type": "markdown",
   "metadata": {},
   "source": [
    "### Decimal to other number bases converter function"
   ]
  },
  {
   "cell_type": "code",
   "execution_count": 20,
   "metadata": {},
   "outputs": [],
   "source": [
    "def dec_to_other_bases_conv(decimal,base):\n",
    "    \"\"\"\n",
    "    decimal: The decimal number to convert\n",
    "    base: Number equivalent to the base to convert to\n",
    "    \n",
    "    \"\"\"\n",
    "    d = decimal\n",
    "    ans = \"\"\n",
    "    while(decimal > 0):\n",
    "        rem = decimal % base\n",
    "        #print(\"{} : {}\".format(quotient,rem))\n",
    "        #ans.insert(0,rem)\n",
    "        ans = str(rem) + ans\n",
    "        decimal = decimal // base\n",
    "    \n",
    "    print(\"\\nSolution:\")\n",
    "    print(\"*********\")\n",
    "    print(\"\\n\" + str(d) + \" in decimal is equal to \" + ans + \" in base \" + str(base))\n",
    "    return ans"
   ]
  },
  {
   "cell_type": "markdown",
   "metadata": {},
   "source": [
    "#### Testing"
   ]
  },
  {
   "cell_type": "code",
   "execution_count": 21,
   "metadata": {},
   "outputs": [
    {
     "name": "stdout",
     "output_type": "stream",
     "text": [
      "Enter a number in deciaml: 5329\n",
      "Enter a number equivalent to the base you wish to convert to: 8\n",
      "\n",
      "Solution:\n",
      "*********\n",
      "\n",
      "5329 in decimal is equal to 12321 in base 8\n",
      "\n",
      "\n"
     ]
    }
   ],
   "source": [
    "dec = int(input(\"Enter a number in deciaml: \"))\n",
    "base = int(input(\"Enter a number equivalent to the base you wish to convert to: \"))\n",
    "dec_to_other_bases_conv(dec,base)\n",
    "print(\"\\n\")"
   ]
  },
  {
   "cell_type": "code",
   "execution_count": 22,
   "metadata": {},
   "outputs": [
    {
     "name": "stdout",
     "output_type": "stream",
     "text": [
      "Enter a number in deciaml: 5329\n",
      "Enter a number equivalent to the base you wish to convert to: 2\n",
      "\n",
      "Solution:\n",
      "*********\n",
      "\n",
      "5329 in decimal is equal to 1010011010001 in base 2\n",
      "\n",
      "\n"
     ]
    }
   ],
   "source": [
    "dec = int(input(\"Enter a number in deciaml: \"))\n",
    "base = int(input(\"Enter a number equivalent to the base you wish to convert to: \"))\n",
    "dec_to_other_bases_conv(dec,base)\n",
    "print(\"\\n\")"
   ]
  },
  {
   "cell_type": "markdown",
   "metadata": {},
   "source": [
    "### Function to convert from other number bases to Decimal"
   ]
  },
  {
   "cell_type": "code",
   "execution_count": 23,
   "metadata": {},
   "outputs": [],
   "source": [
    "def other_base_to_dec_conv(number,numBase):\n",
    "    \"\"\"\n",
    "    number: The number to convert\n",
    "    base: Number equivalent to the base of the number entered\n",
    "    \n",
    "    \"\"\"\n",
    "    decimal = 0\n",
    "    strNum = str(number)\n",
    "    position = len(strNum) - 1\n",
    "    print(\"\")\n",
    "    header = \"{} \\t|\\t {} \\t\\t|\\t {} \\t|\\t {} \\t|\\t{}\".format(\"index\",\"Digit\",\"position\",\"Weight = (base ^ pos)\",\"Sum Weight\")\n",
    "    print(header)\n",
    "    print(\"-\" * int(1.7 * len(header)))\n",
    "    for i in range(0,len(strNum)):\n",
    "        decimal = decimal + (int(strNum[i])* numBase**position)\n",
    "        print(\"{} \\t|\\t {} \\t\\t|\\t {} \\t\\t|\\t {} \\t\\t\\t|\\t {}\".format(i,strNum[i],position,numBase**position,decimal))\n",
    "        position -= 1\n",
    "    \n",
    "    print(\"\\nSolution:\")\n",
    "    print(\"*********\")\n",
    "    print(\"\\n{} in base {} is equal to {} in decimal\".format(number,numBase,decimal))\n",
    "    return decimal"
   ]
  },
  {
   "cell_type": "markdown",
   "metadata": {},
   "source": [
    "#### Testing"
   ]
  },
  {
   "cell_type": "code",
   "execution_count": 24,
   "metadata": {},
   "outputs": [
    {
     "name": "stdout",
     "output_type": "stream",
     "text": [
      "Enter a number you wish to convert to decimal: 12321\n",
      "Enter a number equivalent to the base of the number entered: 8\n",
      "\n",
      "index \t|\t Digit \t\t|\t position \t|\t Weight = (base ^ pos) \t|\tSum Weight\n",
      "---------------------------------------------------------------------------------------------------------------------\n",
      "0 \t|\t 1 \t\t|\t 4 \t\t|\t 4096 \t\t\t|\t 4096\n",
      "1 \t|\t 2 \t\t|\t 3 \t\t|\t 512 \t\t\t|\t 5120\n",
      "2 \t|\t 3 \t\t|\t 2 \t\t|\t 64 \t\t\t|\t 5312\n",
      "3 \t|\t 2 \t\t|\t 1 \t\t|\t 8 \t\t\t|\t 5328\n",
      "4 \t|\t 1 \t\t|\t 0 \t\t|\t 1 \t\t\t|\t 5329\n",
      "\n",
      "Solution:\n",
      "*********\n",
      "\n",
      "12321 in base 8 is equal to 5329 in decimal\n",
      "\n",
      "\n"
     ]
    }
   ],
   "source": [
    "num = int(input(\"Enter a number you wish to convert to decimal: \"))\n",
    "numBase = int(input(\"Enter a number equivalent to the base of the number entered: \"))\n",
    "other_base_to_dec_conv(num,numBase)\n",
    "print(\"\\n\")"
   ]
  },
  {
   "cell_type": "markdown",
   "metadata": {},
   "source": [
    "### Function to convert from other number base to other number base"
   ]
  },
  {
   "cell_type": "code",
   "execution_count": 25,
   "metadata": {},
   "outputs": [],
   "source": [
    "def other_base_to_other_base_conv(number,fromBase,toBase):\n",
    "    \"\"\"\n",
    "    number: The number to convert\n",
    "    fromBase: Number equivalent to the base of the number entered\n",
    "    toBase: Number equivalent to the base you want to convert to\n",
    "    \n",
    "    \"\"\"\n",
    "\n",
    "    decimalEqv = other_base_to_dec_conv(number,fromBase)\n",
    "    finalAnswer = dec_to_other_bases_conv(decimalEqv,toBase)\n",
    "    \n",
    "    print(\"\\nSolution:\")\n",
    "    print(\"*********\")\n",
    "    print(\"{} in base {} is equal to {} in base {}\".format(number,fromBase,finalAnswer,toBase))"
   ]
  },
  {
   "cell_type": "markdown",
   "metadata": {},
   "source": [
    "#### Testing"
   ]
  },
  {
   "cell_type": "code",
   "execution_count": 26,
   "metadata": {},
   "outputs": [
    {
     "name": "stdout",
     "output_type": "stream",
     "text": [
      "Enter a number you wish to convert: 1010011010001\n",
      "Enter a number equivalent to the base of the number entered: 2\n",
      "Enter a number equivalent to the base to convert to: 8\n",
      "\n",
      "index \t|\t Digit \t\t|\t position \t|\t Weight = (base ^ pos) \t|\tSum Weight\n",
      "---------------------------------------------------------------------------------------------------------------------\n",
      "0 \t|\t 1 \t\t|\t 12 \t\t|\t 4096 \t\t\t|\t 4096\n",
      "1 \t|\t 0 \t\t|\t 11 \t\t|\t 2048 \t\t\t|\t 4096\n",
      "2 \t|\t 1 \t\t|\t 10 \t\t|\t 1024 \t\t\t|\t 5120\n",
      "3 \t|\t 0 \t\t|\t 9 \t\t|\t 512 \t\t\t|\t 5120\n",
      "4 \t|\t 0 \t\t|\t 8 \t\t|\t 256 \t\t\t|\t 5120\n",
      "5 \t|\t 1 \t\t|\t 7 \t\t|\t 128 \t\t\t|\t 5248\n",
      "6 \t|\t 1 \t\t|\t 6 \t\t|\t 64 \t\t\t|\t 5312\n",
      "7 \t|\t 0 \t\t|\t 5 \t\t|\t 32 \t\t\t|\t 5312\n",
      "8 \t|\t 1 \t\t|\t 4 \t\t|\t 16 \t\t\t|\t 5328\n",
      "9 \t|\t 0 \t\t|\t 3 \t\t|\t 8 \t\t\t|\t 5328\n",
      "10 \t|\t 0 \t\t|\t 2 \t\t|\t 4 \t\t\t|\t 5328\n",
      "11 \t|\t 0 \t\t|\t 1 \t\t|\t 2 \t\t\t|\t 5328\n",
      "12 \t|\t 1 \t\t|\t 0 \t\t|\t 1 \t\t\t|\t 5329\n",
      "\n",
      "Solution:\n",
      "*********\n",
      "\n",
      "1010011010001 in base 2 is equal to 5329 in decimal\n",
      "\n",
      "Solution:\n",
      "*********\n",
      "\n",
      "5329 in decimal is equal to 12321 in base 8\n",
      "\n",
      "Solution:\n",
      "*********\n",
      "1010011010001 in base 2 is equal to 12321 in base 8\n",
      "\n",
      "\n"
     ]
    }
   ],
   "source": [
    "num = int(input(\"Enter a number you wish to convert: \"))\n",
    "numBase = int(input(\"Enter a number equivalent to the base of the number entered: \"))\n",
    "destBase = int(input(\"Enter a number equivalent to the base to convert to: \"))\n",
    "other_base_to_other_base_conv(num,numBase,destBase)\n",
    "print(\"\\n\")"
   ]
  },
  {
   "cell_type": "code",
   "execution_count": null,
   "metadata": {},
   "outputs": [],
   "source": []
  }
 ],
 "metadata": {
  "kernelspec": {
   "display_name": "Python 3",
   "language": "python",
   "name": "python3"
  },
  "language_info": {
   "codemirror_mode": {
    "name": "ipython",
    "version": 3
   },
   "file_extension": ".py",
   "mimetype": "text/x-python",
   "name": "python",
   "nbconvert_exporter": "python",
   "pygments_lexer": "ipython3",
   "version": "3.6.5"
  }
 },
 "nbformat": 4,
 "nbformat_minor": 2
}
